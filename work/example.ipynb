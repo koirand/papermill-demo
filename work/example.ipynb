{
 "cells": [
  {
   "cell_type": "markdown",
   "id": "norwegian-scene",
   "metadata": {},
   "source": [
    "https://atcoder.jp/contests/abs/tasks/abc086_a\n",
    "\n",
    "### 問題文\n",
    "\n",
    "シカのAtCoDeerくんは二つの正整数 a,b を見つけました。aとbの積が偶数か奇数か判定してください。\n",
    "\n",
    "### 制約\n",
    "\n",
    "- 1 ≤ a, b ≤ 10000\n",
    "- a,bは整数"
   ]
  },
  {
   "cell_type": "code",
   "execution_count": 1,
   "id": "ranking-jerusalem",
   "metadata": {},
   "outputs": [],
   "source": [
    "# パラメータ\n",
    "a = 3\n",
    "b = 4"
   ]
  },
  {
   "cell_type": "code",
   "execution_count": 2,
   "id": "alert-relevance",
   "metadata": {},
   "outputs": [
    {
     "name": "stdout",
     "output_type": "stream",
     "text": [
      "Even\n"
     ]
    }
   ],
   "source": [
    "print(\"Even\" if a*b % 2 == 0 else \"Odd\")"
   ]
  }
 ],
 "metadata": {
  "celltoolbar": "Tags",
  "kernelspec": {
   "display_name": "Python 3",
   "language": "python",
   "name": "python3"
  },
  "language_info": {
   "codemirror_mode": {
    "name": "ipython",
    "version": 3
   },
   "file_extension": ".py",
   "mimetype": "text/x-python",
   "name": "python",
   "nbconvert_exporter": "python",
   "pygments_lexer": "ipython3",
   "version": "3.8.8"
  }
 },
 "nbformat": 4,
 "nbformat_minor": 5
}
